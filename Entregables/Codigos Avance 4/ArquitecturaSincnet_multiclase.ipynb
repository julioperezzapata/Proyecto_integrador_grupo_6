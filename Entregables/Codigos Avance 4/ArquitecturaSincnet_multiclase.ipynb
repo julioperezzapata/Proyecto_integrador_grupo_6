{
  "cells": [
    {
      "cell_type": "code",
      "execution_count": 1,
      "metadata": {
        "colab": {
          "base_uri": "https://localhost:8080/"
        },
        "id": "JUz-BNmh_nRW",
        "outputId": "e04f8646-b82d-40cd-d304-7a4736fb1bb3"
      },
      "outputs": [
        {
          "output_type": "stream",
          "name": "stdout",
          "text": [
            "Drive already mounted at /content/drive; to attempt to forcibly remount, call drive.mount(\"/content/drive\", force_remount=True).\n"
          ]
        }
      ],
      "source": [
        "from google.colab import drive\n",
        "drive.mount('/content/drive')"
      ]
    },
    {
      "cell_type": "code",
      "execution_count": 2,
      "metadata": {
        "colab": {
          "base_uri": "https://localhost:8080/"
        },
        "id": "MG3Jkxkk_8hP",
        "outputId": "cff15c59-1389-4347-907b-288f593771e1"
      },
      "outputs": [
        {
          "output_type": "stream",
          "name": "stdout",
          "text": [
            "Requirement already satisfied: sincnet_tensorflow in /usr/local/lib/python3.10/dist-packages (0.0.2)\n",
            "Requirement already satisfied: numpy>=1.18.5 in /usr/local/lib/python3.10/dist-packages (from sincnet_tensorflow) (1.25.2)\n",
            "Requirement already satisfied: tensorflow>=2.2 in /usr/local/lib/python3.10/dist-packages (from sincnet_tensorflow) (2.15.0)\n",
            "Requirement already satisfied: absl-py>=1.0.0 in /usr/local/lib/python3.10/dist-packages (from tensorflow>=2.2->sincnet_tensorflow) (1.4.0)\n",
            "Requirement already satisfied: astunparse>=1.6.0 in /usr/local/lib/python3.10/dist-packages (from tensorflow>=2.2->sincnet_tensorflow) (1.6.3)\n",
            "Requirement already satisfied: flatbuffers>=23.5.26 in /usr/local/lib/python3.10/dist-packages (from tensorflow>=2.2->sincnet_tensorflow) (23.5.26)\n",
            "Requirement already satisfied: gast!=0.5.0,!=0.5.1,!=0.5.2,>=0.2.1 in /usr/local/lib/python3.10/dist-packages (from tensorflow>=2.2->sincnet_tensorflow) (0.5.4)\n",
            "Requirement already satisfied: google-pasta>=0.1.1 in /usr/local/lib/python3.10/dist-packages (from tensorflow>=2.2->sincnet_tensorflow) (0.2.0)\n",
            "Requirement already satisfied: h5py>=2.9.0 in /usr/local/lib/python3.10/dist-packages (from tensorflow>=2.2->sincnet_tensorflow) (3.9.0)\n",
            "Requirement already satisfied: libclang>=13.0.0 in /usr/local/lib/python3.10/dist-packages (from tensorflow>=2.2->sincnet_tensorflow) (16.0.6)\n",
            "Requirement already satisfied: ml-dtypes~=0.2.0 in /usr/local/lib/python3.10/dist-packages (from tensorflow>=2.2->sincnet_tensorflow) (0.2.0)\n",
            "Requirement already satisfied: opt-einsum>=2.3.2 in /usr/local/lib/python3.10/dist-packages (from tensorflow>=2.2->sincnet_tensorflow) (3.3.0)\n",
            "Requirement already satisfied: packaging in /usr/local/lib/python3.10/dist-packages (from tensorflow>=2.2->sincnet_tensorflow) (23.2)\n",
            "Requirement already satisfied: protobuf!=4.21.0,!=4.21.1,!=4.21.2,!=4.21.3,!=4.21.4,!=4.21.5,<5.0.0dev,>=3.20.3 in /usr/local/lib/python3.10/dist-packages (from tensorflow>=2.2->sincnet_tensorflow) (3.20.3)\n",
            "Requirement already satisfied: setuptools in /usr/local/lib/python3.10/dist-packages (from tensorflow>=2.2->sincnet_tensorflow) (67.7.2)\n",
            "Requirement already satisfied: six>=1.12.0 in /usr/local/lib/python3.10/dist-packages (from tensorflow>=2.2->sincnet_tensorflow) (1.16.0)\n",
            "Requirement already satisfied: termcolor>=1.1.0 in /usr/local/lib/python3.10/dist-packages (from tensorflow>=2.2->sincnet_tensorflow) (2.4.0)\n",
            "Requirement already satisfied: typing-extensions>=3.6.6 in /usr/local/lib/python3.10/dist-packages (from tensorflow>=2.2->sincnet_tensorflow) (4.9.0)\n",
            "Requirement already satisfied: wrapt<1.15,>=1.11.0 in /usr/local/lib/python3.10/dist-packages (from tensorflow>=2.2->sincnet_tensorflow) (1.14.1)\n",
            "Requirement already satisfied: tensorflow-io-gcs-filesystem>=0.23.1 in /usr/local/lib/python3.10/dist-packages (from tensorflow>=2.2->sincnet_tensorflow) (0.36.0)\n",
            "Requirement already satisfied: grpcio<2.0,>=1.24.3 in /usr/local/lib/python3.10/dist-packages (from tensorflow>=2.2->sincnet_tensorflow) (1.60.1)\n",
            "Requirement already satisfied: tensorboard<2.16,>=2.15 in /usr/local/lib/python3.10/dist-packages (from tensorflow>=2.2->sincnet_tensorflow) (2.15.2)\n",
            "Requirement already satisfied: tensorflow-estimator<2.16,>=2.15.0 in /usr/local/lib/python3.10/dist-packages (from tensorflow>=2.2->sincnet_tensorflow) (2.15.0)\n",
            "Requirement already satisfied: keras<2.16,>=2.15.0 in /usr/local/lib/python3.10/dist-packages (from tensorflow>=2.2->sincnet_tensorflow) (2.15.0)\n",
            "Requirement already satisfied: wheel<1.0,>=0.23.0 in /usr/local/lib/python3.10/dist-packages (from astunparse>=1.6.0->tensorflow>=2.2->sincnet_tensorflow) (0.42.0)\n",
            "Requirement already satisfied: google-auth<3,>=1.6.3 in /usr/local/lib/python3.10/dist-packages (from tensorboard<2.16,>=2.15->tensorflow>=2.2->sincnet_tensorflow) (2.27.0)\n",
            "Requirement already satisfied: google-auth-oauthlib<2,>=0.5 in /usr/local/lib/python3.10/dist-packages (from tensorboard<2.16,>=2.15->tensorflow>=2.2->sincnet_tensorflow) (1.2.0)\n",
            "Requirement already satisfied: markdown>=2.6.8 in /usr/local/lib/python3.10/dist-packages (from tensorboard<2.16,>=2.15->tensorflow>=2.2->sincnet_tensorflow) (3.5.2)\n",
            "Requirement already satisfied: requests<3,>=2.21.0 in /usr/local/lib/python3.10/dist-packages (from tensorboard<2.16,>=2.15->tensorflow>=2.2->sincnet_tensorflow) (2.31.0)\n",
            "Requirement already satisfied: tensorboard-data-server<0.8.0,>=0.7.0 in /usr/local/lib/python3.10/dist-packages (from tensorboard<2.16,>=2.15->tensorflow>=2.2->sincnet_tensorflow) (0.7.2)\n",
            "Requirement already satisfied: werkzeug>=1.0.1 in /usr/local/lib/python3.10/dist-packages (from tensorboard<2.16,>=2.15->tensorflow>=2.2->sincnet_tensorflow) (3.0.1)\n",
            "Requirement already satisfied: cachetools<6.0,>=2.0.0 in /usr/local/lib/python3.10/dist-packages (from google-auth<3,>=1.6.3->tensorboard<2.16,>=2.15->tensorflow>=2.2->sincnet_tensorflow) (5.3.2)\n",
            "Requirement already satisfied: pyasn1-modules>=0.2.1 in /usr/local/lib/python3.10/dist-packages (from google-auth<3,>=1.6.3->tensorboard<2.16,>=2.15->tensorflow>=2.2->sincnet_tensorflow) (0.3.0)\n",
            "Requirement already satisfied: rsa<5,>=3.1.4 in /usr/local/lib/python3.10/dist-packages (from google-auth<3,>=1.6.3->tensorboard<2.16,>=2.15->tensorflow>=2.2->sincnet_tensorflow) (4.9)\n",
            "Requirement already satisfied: requests-oauthlib>=0.7.0 in /usr/local/lib/python3.10/dist-packages (from google-auth-oauthlib<2,>=0.5->tensorboard<2.16,>=2.15->tensorflow>=2.2->sincnet_tensorflow) (1.3.1)\n",
            "Requirement already satisfied: charset-normalizer<4,>=2 in /usr/local/lib/python3.10/dist-packages (from requests<3,>=2.21.0->tensorboard<2.16,>=2.15->tensorflow>=2.2->sincnet_tensorflow) (3.3.2)\n",
            "Requirement already satisfied: idna<4,>=2.5 in /usr/local/lib/python3.10/dist-packages (from requests<3,>=2.21.0->tensorboard<2.16,>=2.15->tensorflow>=2.2->sincnet_tensorflow) (3.6)\n",
            "Requirement already satisfied: urllib3<3,>=1.21.1 in /usr/local/lib/python3.10/dist-packages (from requests<3,>=2.21.0->tensorboard<2.16,>=2.15->tensorflow>=2.2->sincnet_tensorflow) (2.0.7)\n",
            "Requirement already satisfied: certifi>=2017.4.17 in /usr/local/lib/python3.10/dist-packages (from requests<3,>=2.21.0->tensorboard<2.16,>=2.15->tensorflow>=2.2->sincnet_tensorflow) (2024.2.2)\n",
            "Requirement already satisfied: MarkupSafe>=2.1.1 in /usr/local/lib/python3.10/dist-packages (from werkzeug>=1.0.1->tensorboard<2.16,>=2.15->tensorflow>=2.2->sincnet_tensorflow) (2.1.5)\n",
            "Requirement already satisfied: pyasn1<0.6.0,>=0.4.6 in /usr/local/lib/python3.10/dist-packages (from pyasn1-modules>=0.2.1->google-auth<3,>=1.6.3->tensorboard<2.16,>=2.15->tensorflow>=2.2->sincnet_tensorflow) (0.5.1)\n",
            "Requirement already satisfied: oauthlib>=3.0.0 in /usr/local/lib/python3.10/dist-packages (from requests-oauthlib>=0.7.0->google-auth-oauthlib<2,>=0.5->tensorboard<2.16,>=2.15->tensorflow>=2.2->sincnet_tensorflow) (3.2.2)\n"
          ]
        }
      ],
      "source": [
        "!pip install sincnet_tensorflow"
      ]
    },
    {
      "cell_type": "code",
      "execution_count": 3,
      "metadata": {
        "id": "zSY8ITPH_fR3"
      },
      "outputs": [],
      "source": [
        "import os\n",
        "import numpy as np\n",
        "import tensorflow as tf\n",
        "from tensorflow.keras.layers import Dense, Conv1D, LeakyReLU, BatchNormalization, Flatten, MaxPooling1D, Input\n",
        "from sincnet_tensorflow import SincConv1D, LayerNorm\n",
        "from sklearn.model_selection import train_test_split\n",
        "import random\n",
        "import pandas as pd\n",
        "import librosa\n"
      ]
    },
    {
      "cell_type": "code",
      "execution_count": 4,
      "metadata": {
        "colab": {
          "base_uri": "https://localhost:8080/"
        },
        "id": "4xFLfaixhRw7",
        "outputId": "378bd4e1-cf9f-428a-eef5-38c6f30b2ff3"
      },
      "outputs": [
        {
          "output_type": "stream",
          "name": "stdout",
          "text": [
            "  AudioID AgeRange  Gender        Pathology  \\\n",
            "0    1037    49-51  Female        Dysphonie   \n",
            "1    1040    60-62  Female  Rekurrensparese   \n",
            "2    1042    46-49    Male        Dysphonie   \n",
            "3    1043    41-45    Male        Dysphonie   \n",
            "4    1044    31-35  Female        Dysphonie   \n",
            "\n",
            "                                       AudioFilePath  \n",
            "0  /content/drive/.shortcut-targets-by-id/1MDEuAK...  \n",
            "1  /content/drive/.shortcut-targets-by-id/1MDEuAK...  \n",
            "2  /content/drive/.shortcut-targets-by-id/1MDEuAK...  \n",
            "3  /content/drive/.shortcut-targets-by-id/1MDEuAK...  \n",
            "4  /content/drive/.shortcut-targets-by-id/1MDEuAK...  \n"
          ]
        }
      ],
      "source": [
        "# Cambia este path al lugar donde tienes tu archivo de texto y los audios\n",
        "data_path = '/content/drive/.shortcut-targets-by-id/1MDEuAKtcvr_saVdZcC0ImDUZsJdQhf2U/TC5035 - Proyecto Integrador/Codigos de Prueba/Datasets/frase/Total/Enfermos/'\n",
        "patologias_file = 'lista_pathological_info.txt'\n",
        "\n",
        "# Crear un DataFrame vacío\n",
        "columns = ['AudioID', 'AgeRange', 'Gender', 'Pathology', 'AudioFilePath']\n",
        "df_patologias = pd.DataFrame(columns=columns)\n",
        "\n",
        "# Lista de patologías de interés\n",
        "patologias_interes = ['Dysphonie', 'Laryngitis', 'Rekurrensparese', 'Sano']\n",
        "\n",
        "# Leer el archivo de patologías y llenar el DataFrame\n",
        "with open(os.path.join(data_path, patologias_file), 'r') as file:\n",
        "    for line in file:\n",
        "        parts = line.strip().split(' ')\n",
        "        audio_id = parts[0]\n",
        "        age_range = parts[1]\n",
        "        gender = parts[2]\n",
        "        # Suponiendo que la patología está al final y puede tener múltiples elementos separados por comas\n",
        "        pathology = ' '.join(parts[3:])\n",
        "        audio_file_path = os.path.join(data_path, f\"{audio_id}-phrase.wav\")\n",
        "\n",
        "        # Verificar y añadir cada patología de interés si está presente\n",
        "        for pat in patologias_interes:\n",
        "            if pat in pathology:\n",
        "                # Crear un DataFrame para la nueva fila\n",
        "                new_row_df = pd.DataFrame([{'AudioID': audio_id, 'AgeRange': age_range, 'Gender': gender, 'Pathology': pat, 'AudioFilePath': audio_file_path}])\n",
        "\n",
        "                # Usar pd.concat para concatenar el nuevo DataFrame con el existente\n",
        "                df_patologias = pd.concat([df_patologias, new_row_df], ignore_index=True)\n",
        "\n",
        "print(df_patologias.head())\n"
      ]
    },
    {
      "cell_type": "code",
      "source": [
        "df_patologias"
      ],
      "metadata": {
        "colab": {
          "base_uri": "https://localhost:8080/",
          "height": 423
        },
        "id": "S9CeB03PZDts",
        "outputId": "0321f6be-cf1d-4fd3-de86-2dcc5e7c1962"
      },
      "execution_count": 5,
      "outputs": [
        {
          "output_type": "execute_result",
          "data": {
            "text/plain": [
              "    AudioID AgeRange  Gender        Pathology  \\\n",
              "0      1037    49-51  Female        Dysphonie   \n",
              "1      1040    60-62  Female  Rekurrensparese   \n",
              "2      1042    46-49    Male        Dysphonie   \n",
              "3      1043    41-45    Male        Dysphonie   \n",
              "4      1044    31-35  Female        Dysphonie   \n",
              "..      ...      ...     ...              ...   \n",
              "899     929    52-54  Female  Rekurrensparese   \n",
              "900     930    19-30    Male       Laryngitis   \n",
              "901     931    52-54  Female       Laryngitis   \n",
              "902     934    26-30  Female        Dysphonie   \n",
              "903     935    31-35    Male       Laryngitis   \n",
              "\n",
              "                                         AudioFilePath  \n",
              "0    /content/drive/.shortcut-targets-by-id/1MDEuAK...  \n",
              "1    /content/drive/.shortcut-targets-by-id/1MDEuAK...  \n",
              "2    /content/drive/.shortcut-targets-by-id/1MDEuAK...  \n",
              "3    /content/drive/.shortcut-targets-by-id/1MDEuAK...  \n",
              "4    /content/drive/.shortcut-targets-by-id/1MDEuAK...  \n",
              "..                                                 ...  \n",
              "899  /content/drive/.shortcut-targets-by-id/1MDEuAK...  \n",
              "900  /content/drive/.shortcut-targets-by-id/1MDEuAK...  \n",
              "901  /content/drive/.shortcut-targets-by-id/1MDEuAK...  \n",
              "902  /content/drive/.shortcut-targets-by-id/1MDEuAK...  \n",
              "903  /content/drive/.shortcut-targets-by-id/1MDEuAK...  \n",
              "\n",
              "[904 rows x 5 columns]"
            ],
            "text/html": [
              "\n",
              "  <div id=\"df-72929c72-8abc-4452-baa7-0608734616a3\" class=\"colab-df-container\">\n",
              "    <div>\n",
              "<style scoped>\n",
              "    .dataframe tbody tr th:only-of-type {\n",
              "        vertical-align: middle;\n",
              "    }\n",
              "\n",
              "    .dataframe tbody tr th {\n",
              "        vertical-align: top;\n",
              "    }\n",
              "\n",
              "    .dataframe thead th {\n",
              "        text-align: right;\n",
              "    }\n",
              "</style>\n",
              "<table border=\"1\" class=\"dataframe\">\n",
              "  <thead>\n",
              "    <tr style=\"text-align: right;\">\n",
              "      <th></th>\n",
              "      <th>AudioID</th>\n",
              "      <th>AgeRange</th>\n",
              "      <th>Gender</th>\n",
              "      <th>Pathology</th>\n",
              "      <th>AudioFilePath</th>\n",
              "    </tr>\n",
              "  </thead>\n",
              "  <tbody>\n",
              "    <tr>\n",
              "      <th>0</th>\n",
              "      <td>1037</td>\n",
              "      <td>49-51</td>\n",
              "      <td>Female</td>\n",
              "      <td>Dysphonie</td>\n",
              "      <td>/content/drive/.shortcut-targets-by-id/1MDEuAK...</td>\n",
              "    </tr>\n",
              "    <tr>\n",
              "      <th>1</th>\n",
              "      <td>1040</td>\n",
              "      <td>60-62</td>\n",
              "      <td>Female</td>\n",
              "      <td>Rekurrensparese</td>\n",
              "      <td>/content/drive/.shortcut-targets-by-id/1MDEuAK...</td>\n",
              "    </tr>\n",
              "    <tr>\n",
              "      <th>2</th>\n",
              "      <td>1042</td>\n",
              "      <td>46-49</td>\n",
              "      <td>Male</td>\n",
              "      <td>Dysphonie</td>\n",
              "      <td>/content/drive/.shortcut-targets-by-id/1MDEuAK...</td>\n",
              "    </tr>\n",
              "    <tr>\n",
              "      <th>3</th>\n",
              "      <td>1043</td>\n",
              "      <td>41-45</td>\n",
              "      <td>Male</td>\n",
              "      <td>Dysphonie</td>\n",
              "      <td>/content/drive/.shortcut-targets-by-id/1MDEuAK...</td>\n",
              "    </tr>\n",
              "    <tr>\n",
              "      <th>4</th>\n",
              "      <td>1044</td>\n",
              "      <td>31-35</td>\n",
              "      <td>Female</td>\n",
              "      <td>Dysphonie</td>\n",
              "      <td>/content/drive/.shortcut-targets-by-id/1MDEuAK...</td>\n",
              "    </tr>\n",
              "    <tr>\n",
              "      <th>...</th>\n",
              "      <td>...</td>\n",
              "      <td>...</td>\n",
              "      <td>...</td>\n",
              "      <td>...</td>\n",
              "      <td>...</td>\n",
              "    </tr>\n",
              "    <tr>\n",
              "      <th>899</th>\n",
              "      <td>929</td>\n",
              "      <td>52-54</td>\n",
              "      <td>Female</td>\n",
              "      <td>Rekurrensparese</td>\n",
              "      <td>/content/drive/.shortcut-targets-by-id/1MDEuAK...</td>\n",
              "    </tr>\n",
              "    <tr>\n",
              "      <th>900</th>\n",
              "      <td>930</td>\n",
              "      <td>19-30</td>\n",
              "      <td>Male</td>\n",
              "      <td>Laryngitis</td>\n",
              "      <td>/content/drive/.shortcut-targets-by-id/1MDEuAK...</td>\n",
              "    </tr>\n",
              "    <tr>\n",
              "      <th>901</th>\n",
              "      <td>931</td>\n",
              "      <td>52-54</td>\n",
              "      <td>Female</td>\n",
              "      <td>Laryngitis</td>\n",
              "      <td>/content/drive/.shortcut-targets-by-id/1MDEuAK...</td>\n",
              "    </tr>\n",
              "    <tr>\n",
              "      <th>902</th>\n",
              "      <td>934</td>\n",
              "      <td>26-30</td>\n",
              "      <td>Female</td>\n",
              "      <td>Dysphonie</td>\n",
              "      <td>/content/drive/.shortcut-targets-by-id/1MDEuAK...</td>\n",
              "    </tr>\n",
              "    <tr>\n",
              "      <th>903</th>\n",
              "      <td>935</td>\n",
              "      <td>31-35</td>\n",
              "      <td>Male</td>\n",
              "      <td>Laryngitis</td>\n",
              "      <td>/content/drive/.shortcut-targets-by-id/1MDEuAK...</td>\n",
              "    </tr>\n",
              "  </tbody>\n",
              "</table>\n",
              "<p>904 rows × 5 columns</p>\n",
              "</div>\n",
              "    <div class=\"colab-df-buttons\">\n",
              "\n",
              "  <div class=\"colab-df-container\">\n",
              "    <button class=\"colab-df-convert\" onclick=\"convertToInteractive('df-72929c72-8abc-4452-baa7-0608734616a3')\"\n",
              "            title=\"Convert this dataframe to an interactive table.\"\n",
              "            style=\"display:none;\">\n",
              "\n",
              "  <svg xmlns=\"http://www.w3.org/2000/svg\" height=\"24px\" viewBox=\"0 -960 960 960\">\n",
              "    <path d=\"M120-120v-720h720v720H120Zm60-500h600v-160H180v160Zm220 220h160v-160H400v160Zm0 220h160v-160H400v160ZM180-400h160v-160H180v160Zm440 0h160v-160H620v160ZM180-180h160v-160H180v160Zm440 0h160v-160H620v160Z\"/>\n",
              "  </svg>\n",
              "    </button>\n",
              "\n",
              "  <style>\n",
              "    .colab-df-container {\n",
              "      display:flex;\n",
              "      gap: 12px;\n",
              "    }\n",
              "\n",
              "    .colab-df-convert {\n",
              "      background-color: #E8F0FE;\n",
              "      border: none;\n",
              "      border-radius: 50%;\n",
              "      cursor: pointer;\n",
              "      display: none;\n",
              "      fill: #1967D2;\n",
              "      height: 32px;\n",
              "      padding: 0 0 0 0;\n",
              "      width: 32px;\n",
              "    }\n",
              "\n",
              "    .colab-df-convert:hover {\n",
              "      background-color: #E2EBFA;\n",
              "      box-shadow: 0px 1px 2px rgba(60, 64, 67, 0.3), 0px 1px 3px 1px rgba(60, 64, 67, 0.15);\n",
              "      fill: #174EA6;\n",
              "    }\n",
              "\n",
              "    .colab-df-buttons div {\n",
              "      margin-bottom: 4px;\n",
              "    }\n",
              "\n",
              "    [theme=dark] .colab-df-convert {\n",
              "      background-color: #3B4455;\n",
              "      fill: #D2E3FC;\n",
              "    }\n",
              "\n",
              "    [theme=dark] .colab-df-convert:hover {\n",
              "      background-color: #434B5C;\n",
              "      box-shadow: 0px 1px 3px 1px rgba(0, 0, 0, 0.15);\n",
              "      filter: drop-shadow(0px 1px 2px rgba(0, 0, 0, 0.3));\n",
              "      fill: #FFFFFF;\n",
              "    }\n",
              "  </style>\n",
              "\n",
              "    <script>\n",
              "      const buttonEl =\n",
              "        document.querySelector('#df-72929c72-8abc-4452-baa7-0608734616a3 button.colab-df-convert');\n",
              "      buttonEl.style.display =\n",
              "        google.colab.kernel.accessAllowed ? 'block' : 'none';\n",
              "\n",
              "      async function convertToInteractive(key) {\n",
              "        const element = document.querySelector('#df-72929c72-8abc-4452-baa7-0608734616a3');\n",
              "        const dataTable =\n",
              "          await google.colab.kernel.invokeFunction('convertToInteractive',\n",
              "                                                    [key], {});\n",
              "        if (!dataTable) return;\n",
              "\n",
              "        const docLinkHtml = 'Like what you see? Visit the ' +\n",
              "          '<a target=\"_blank\" href=https://colab.research.google.com/notebooks/data_table.ipynb>data table notebook</a>'\n",
              "          + ' to learn more about interactive tables.';\n",
              "        element.innerHTML = '';\n",
              "        dataTable['output_type'] = 'display_data';\n",
              "        await google.colab.output.renderOutput(dataTable, element);\n",
              "        const docLink = document.createElement('div');\n",
              "        docLink.innerHTML = docLinkHtml;\n",
              "        element.appendChild(docLink);\n",
              "      }\n",
              "    </script>\n",
              "  </div>\n",
              "\n",
              "\n",
              "<div id=\"df-5a4d1983-ed52-4709-ab45-f1d05b9588da\">\n",
              "  <button class=\"colab-df-quickchart\" onclick=\"quickchart('df-5a4d1983-ed52-4709-ab45-f1d05b9588da')\"\n",
              "            title=\"Suggest charts\"\n",
              "            style=\"display:none;\">\n",
              "\n",
              "<svg xmlns=\"http://www.w3.org/2000/svg\" height=\"24px\"viewBox=\"0 0 24 24\"\n",
              "     width=\"24px\">\n",
              "    <g>\n",
              "        <path d=\"M19 3H5c-1.1 0-2 .9-2 2v14c0 1.1.9 2 2 2h14c1.1 0 2-.9 2-2V5c0-1.1-.9-2-2-2zM9 17H7v-7h2v7zm4 0h-2V7h2v10zm4 0h-2v-4h2v4z\"/>\n",
              "    </g>\n",
              "</svg>\n",
              "  </button>\n",
              "\n",
              "<style>\n",
              "  .colab-df-quickchart {\n",
              "      --bg-color: #E8F0FE;\n",
              "      --fill-color: #1967D2;\n",
              "      --hover-bg-color: #E2EBFA;\n",
              "      --hover-fill-color: #174EA6;\n",
              "      --disabled-fill-color: #AAA;\n",
              "      --disabled-bg-color: #DDD;\n",
              "  }\n",
              "\n",
              "  [theme=dark] .colab-df-quickchart {\n",
              "      --bg-color: #3B4455;\n",
              "      --fill-color: #D2E3FC;\n",
              "      --hover-bg-color: #434B5C;\n",
              "      --hover-fill-color: #FFFFFF;\n",
              "      --disabled-bg-color: #3B4455;\n",
              "      --disabled-fill-color: #666;\n",
              "  }\n",
              "\n",
              "  .colab-df-quickchart {\n",
              "    background-color: var(--bg-color);\n",
              "    border: none;\n",
              "    border-radius: 50%;\n",
              "    cursor: pointer;\n",
              "    display: none;\n",
              "    fill: var(--fill-color);\n",
              "    height: 32px;\n",
              "    padding: 0;\n",
              "    width: 32px;\n",
              "  }\n",
              "\n",
              "  .colab-df-quickchart:hover {\n",
              "    background-color: var(--hover-bg-color);\n",
              "    box-shadow: 0 1px 2px rgba(60, 64, 67, 0.3), 0 1px 3px 1px rgba(60, 64, 67, 0.15);\n",
              "    fill: var(--button-hover-fill-color);\n",
              "  }\n",
              "\n",
              "  .colab-df-quickchart-complete:disabled,\n",
              "  .colab-df-quickchart-complete:disabled:hover {\n",
              "    background-color: var(--disabled-bg-color);\n",
              "    fill: var(--disabled-fill-color);\n",
              "    box-shadow: none;\n",
              "  }\n",
              "\n",
              "  .colab-df-spinner {\n",
              "    border: 2px solid var(--fill-color);\n",
              "    border-color: transparent;\n",
              "    border-bottom-color: var(--fill-color);\n",
              "    animation:\n",
              "      spin 1s steps(1) infinite;\n",
              "  }\n",
              "\n",
              "  @keyframes spin {\n",
              "    0% {\n",
              "      border-color: transparent;\n",
              "      border-bottom-color: var(--fill-color);\n",
              "      border-left-color: var(--fill-color);\n",
              "    }\n",
              "    20% {\n",
              "      border-color: transparent;\n",
              "      border-left-color: var(--fill-color);\n",
              "      border-top-color: var(--fill-color);\n",
              "    }\n",
              "    30% {\n",
              "      border-color: transparent;\n",
              "      border-left-color: var(--fill-color);\n",
              "      border-top-color: var(--fill-color);\n",
              "      border-right-color: var(--fill-color);\n",
              "    }\n",
              "    40% {\n",
              "      border-color: transparent;\n",
              "      border-right-color: var(--fill-color);\n",
              "      border-top-color: var(--fill-color);\n",
              "    }\n",
              "    60% {\n",
              "      border-color: transparent;\n",
              "      border-right-color: var(--fill-color);\n",
              "    }\n",
              "    80% {\n",
              "      border-color: transparent;\n",
              "      border-right-color: var(--fill-color);\n",
              "      border-bottom-color: var(--fill-color);\n",
              "    }\n",
              "    90% {\n",
              "      border-color: transparent;\n",
              "      border-bottom-color: var(--fill-color);\n",
              "    }\n",
              "  }\n",
              "</style>\n",
              "\n",
              "  <script>\n",
              "    async function quickchart(key) {\n",
              "      const quickchartButtonEl =\n",
              "        document.querySelector('#' + key + ' button');\n",
              "      quickchartButtonEl.disabled = true;  // To prevent multiple clicks.\n",
              "      quickchartButtonEl.classList.add('colab-df-spinner');\n",
              "      try {\n",
              "        const charts = await google.colab.kernel.invokeFunction(\n",
              "            'suggestCharts', [key], {});\n",
              "      } catch (error) {\n",
              "        console.error('Error during call to suggestCharts:', error);\n",
              "      }\n",
              "      quickchartButtonEl.classList.remove('colab-df-spinner');\n",
              "      quickchartButtonEl.classList.add('colab-df-quickchart-complete');\n",
              "    }\n",
              "    (() => {\n",
              "      let quickchartButtonEl =\n",
              "        document.querySelector('#df-5a4d1983-ed52-4709-ab45-f1d05b9588da button');\n",
              "      quickchartButtonEl.style.display =\n",
              "        google.colab.kernel.accessAllowed ? 'block' : 'none';\n",
              "    })();\n",
              "  </script>\n",
              "</div>\n",
              "    </div>\n",
              "  </div>\n"
            ],
            "application/vnd.google.colaboratory.intrinsic+json": {
              "type": "dataframe",
              "variable_name": "df_patologias",
              "summary": "{\n  \"name\": \"df_patologias\",\n  \"rows\": 904,\n  \"fields\": [\n    {\n      \"column\": \"AudioID\",\n      \"properties\": {\n        \"dtype\": \"string\",\n        \"samples\": [\n          \"1690\",\n          \"2021\",\n          \"1200\"\n        ],\n        \"num_unique_values\": 888,\n        \"semantic_type\": \"\",\n        \"description\": \"\"\n      }\n    },\n    {\n      \"column\": \"AgeRange\",\n      \"properties\": {\n        \"dtype\": \"category\",\n        \"samples\": [\n          \"26-30\",\n          \"55-57\",\n          \"49-51\"\n        ],\n        \"num_unique_values\": 26,\n        \"semantic_type\": \"\",\n        \"description\": \"\"\n      }\n    },\n    {\n      \"column\": \"Gender\",\n      \"properties\": {\n        \"dtype\": \"category\",\n        \"samples\": [\n          \"Male\",\n          \"Female\"\n        ],\n        \"num_unique_values\": 2,\n        \"semantic_type\": \"\",\n        \"description\": \"\"\n      }\n    },\n    {\n      \"column\": \"Pathology\",\n      \"properties\": {\n        \"dtype\": \"category\",\n        \"samples\": [\n          \"Dysphonie\",\n          \"Rekurrensparese\"\n        ],\n        \"num_unique_values\": 3,\n        \"semantic_type\": \"\",\n        \"description\": \"\"\n      }\n    },\n    {\n      \"column\": \"AudioFilePath\",\n      \"properties\": {\n        \"dtype\": \"string\",\n        \"samples\": [\n          \"/content/drive/.shortcut-targets-by-id/1MDEuAKtcvr_saVdZcC0ImDUZsJdQhf2U/TC5035 - Proyecto Integrador/Codigos de Prueba/Datasets/frase/Total/Enfermos/1690-phrase.wav\",\n          \"/content/drive/.shortcut-targets-by-id/1MDEuAKtcvr_saVdZcC0ImDUZsJdQhf2U/TC5035 - Proyecto Integrador/Codigos de Prueba/Datasets/frase/Total/Enfermos/2021-phrase.wav\"\n        ],\n        \"num_unique_values\": 888,\n        \"semantic_type\": \"\",\n        \"description\": \"\"\n      }\n    }\n  ]\n}"
            }
          },
          "metadata": {},
          "execution_count": 5
        }
      ]
    },
    {
      "source": [
        "# @title Pathology\n",
        "\n",
        "from matplotlib import pyplot as plt\n",
        "import seaborn as sns\n",
        "df_patologias.groupby('Pathology').size().plot(kind='barh', color=sns.palettes.mpl_palette('Dark2'))\n",
        "plt.gca().spines[['top', 'right',]].set_visible(False)"
      ],
      "cell_type": "code",
      "execution_count": 6,
      "outputs": [
        {
          "output_type": "display_data",
          "data": {
            "text/plain": [
              "<Figure size 640x480 with 1 Axes>"
            ],
            "image/png": "[encoded data removed]"
          },
          "metadata": {}
        }
      ],
      "metadata": {
        "colab": {
          "base_uri": "https://localhost:8080/",
          "height": 430
        },
        "id": "jZNxc5GG2tDf",
        "outputId": "c2d34b9f-ebc1-47a9-869a-c6bf4d2751c8"
      }
    },
    {
      "cell_type": "code",
      "source": [
        "patologias_path = data_path + 'lista_pathological_info.txt'\n",
        "\n",
        "# Diccionario para mapear el nombre del archivo de audio a sus detalles\n",
        "audio_details = {}\n",
        "\n",
        "with open(patologias_path, 'r') as file:\n",
        "    for line in file:\n",
        "        # Dividir la línea por espacios\n",
        "        parts = line.strip().split(' ')\n",
        "        audio_id = parts[0]\n",
        "        gender = parts[2]\n",
        "        pathologies = ' '.join(parts[3:]).split(' laryngitis')\n",
        "        if len(pathologies) > 1:\n",
        "            # Si tiene más de una patología, agregamos 'laryngitis' de nuevo al principio de cada patología adicional\n",
        "            pathologies = [pathologies[0]] + ['laryngitis' + pathology for pathology in pathologies[1:]]\n",
        "        # Nombre del archivo de audio\n",
        "        audio_filename = f\"{audio_id}-phrase.wav\"\n",
        "        # Guardar los detalles en el diccionario\n",
        "        audio_details[audio_filename] = {'gender': gender, 'pathologies': pathologies}\n",
        "\n",
        "# Ejemplo para verificar algunos datos cargados\n",
        "print(list(audio_details.items())[:5])\n"
      ],
      "metadata": {
        "colab": {
          "base_uri": "https://localhost:8080/"
        },
        "id": "pNxj7YbDe-zK",
        "outputId": "8cecff04-1457-4c95-e881-31999868624f"
      },
      "execution_count": 7,
      "outputs": [
        {
          "output_type": "stream",
          "name": "stdout",
          "text": [
            "[('101-phrase.wav', {'gender': 'Female', 'pathologies': ['Bulbarparalyse']}), ('1037-phrase.wav', {'gender': 'Female', 'pathologies': ['Hyperfunktionelle_Dysphonie']}), ('1038-phrase.wav', {'gender': 'Female', 'pathologies': ['Gesangsstimme']}), ('1039-phrase.wav', {'gender': 'Male', 'pathologies': ['Vox_senilis']}), ('1040-phrase.wav', {'gender': 'Female', 'pathologies': ['Rekurrensparese']})]\n"
          ]
        }
      ]
    },
    {
      "cell_type": "code",
      "source": [
        "import librosa\n",
        "import numpy as np\n",
        "\n",
        "def load_audio_features(file_path):\n",
        "    audio, sample_rate = librosa.load(file_path, sr=None)\n",
        "    mfccs = librosa.feature.mfcc(y=audio, sr=sample_rate, n_mfcc=13)\n",
        "    mfccs_processed = np.mean(mfccs.T, axis=0)\n",
        "    return mfccs_processed\n",
        "\n",
        "# Supongamos que quieres cargar las características de todos los archivos de audio y sus etiquetas\n",
        "features = []\n",
        "labels = []\n",
        "\n",
        "for audio_filename, details in  audio_details.items():\n",
        "    file_path = data_path + audio_filename\n",
        "    try:\n",
        "        # Cargar características del audio\n",
        "        audio_features = load_audio_features(file_path)\n",
        "        features.append(audio_features)\n",
        "        # Asumiendo que solo quieres la primera patología como etiqueta por simplicidad\n",
        "        labels.append(details['pathologies'][0])\n",
        "    except FileNotFoundError:\n",
        "        print(f\"Archivo no encontrado: {file_path}\")\n",
        "        continue\n",
        "\n",
        "# Ahora tienes 'features' y 'labels' listos para ser utilizados en entrenamiento de modelos\n"
      ],
      "metadata": {
        "id": "N3ZfLns0VVZM"
      },
      "execution_count": 8,
      "outputs": []
    },
    {
      "cell_type": "code",
      "execution_count": 9,
      "metadata": {
        "colab": {
          "base_uri": "https://localhost:8080/"
        },
        "id": "Ty1nNgIDhH_u",
        "outputId": "74cf1b6b-0de8-4282-9663-7f5ffeb2fb66"
      },
      "outputs": [
        {
          "output_type": "stream",
          "name": "stdout",
          "text": [
            "[-3.88286469e+02  1.16648483e+02  1.28064003e+01  5.17880516e+01\n",
            "  1.48881989e+01  1.12274008e+01  8.38192463e-01 -1.24843752e+00\n",
            "  1.89026225e+00 -1.74732900e+00 -4.25775528e+00 -8.77251148e+00\n",
            "  1.24008745e-01]\n"
          ]
        }
      ],
      "source": [
        "\n",
        "\n",
        "# Función para cargar las características de un archivo de audio\n",
        "def load_audio_features(file_path):\n",
        "    audio, sample_rate = librosa.load(file_path, sr=None)\n",
        "    mfccs = librosa.feature.mfcc(y=audio, sr=sample_rate, n_mfcc=13)\n",
        "    mfccs_processed = np.mean(mfccs.T, axis=0)\n",
        "    return mfccs_processed\n",
        "\n",
        "# Cargar características del primer archivo de audio en el DataFrame\n",
        "first_audio_path = df_patologias.loc[0, 'AudioFilePath']\n",
        "features = load_audio_features(first_audio_path)\n",
        "print(features)"
      ]
    },
    {
      "cell_type": "code",
      "execution_count": 10,
      "metadata": {
        "id": "iXx_iZrItXcP"
      },
      "outputs": [],
      "source": [
        "import librosa\n",
        "def cargar_audio(archivo_path):\n",
        "    # Carga el archivo de audio usando librosa\n",
        "    audio, _ = librosa.load(archivo_path, sr=50000)  # Asume una frecuencia de muestreo de 16000 Hz\n",
        "\n",
        "    # Asegúrate de que los datos estén en el formato correcto (8000 puntos de datos)\n",
        "    if len(audio) <70000:\n",
        "        # Si el audio es más corto, rellena con ceros\n",
        "        audio = np.pad(audio, (0, 70000 - len(audio)))\n",
        "    elif len(audio) > 70000:\n",
        "        # Si el audio es más largo, truncalo\n",
        "        audio = audio[:70000]\n",
        "\n",
        "    # Formatea los datos para que tengan la forma (8000, 1)\n",
        "    audio = audio.reshape((70000, 1))\n",
        "\n",
        "    return audio"
      ]
    },
    {
      "cell_type": "code",
      "execution_count": 14,
      "metadata": {
        "colab": {
          "base_uri": "https://localhost:8080/"
        },
        "id": "jO8TKCtsjmTb",
        "outputId": "7d4f5318-ab4e-40e2-fb54-62b56cf55e33"
      },
      "outputs": [
        {
          "output_type": "stream",
          "name": "stdout",
          "text": [
            "Características cargadas: (1538, 70000, 1)\n",
            "Etiquetas cargadas: (1538,)\n"
          ]
        }
      ],
      "source": [
        "# la ubicación de tus audios sanos\n",
        "healthy_data_path = '/content/drive/.shortcut-targets-by-id/1MDEuAKtcvr_saVdZcC0ImDUZsJdQhf2U/TC5035 - Proyecto Integrador/Codigos de Prueba/Datasets/frase/Total/Sanos'\n",
        "\n",
        "# Obtener la lista de archivos de audio en la carpeta de audios sanos\n",
        "healthy_audio_files = [f for f in os.listdir(healthy_data_path) if f.endswith('.wav')]\n",
        "\n",
        "# Listas para almacenar características y etiquetas\n",
        "features_list = []\n",
        "labels_list = []\n",
        "\n",
        "for index, row in df_patologias.iterrows():\n",
        "    audio_file_path = row['AudioFilePath']\n",
        "    pathology = row['Pathology']\n",
        "\n",
        "    try:\n",
        "        # Cargar las características del audio usando la función cargar_audio\n",
        "        features = cargar_audio(audio_file_path)\n",
        "        # Añadir las características y la etiqueta a las listas\n",
        "        features_list.append(features)\n",
        "        labels_list.append(pathology)\n",
        "    except Exception as e:\n",
        "        print(f\"Error cargando {audio_file_path}: {e}\")\n",
        "for file_name in healthy_audio_files:\n",
        "    audio_file_path = os.path.join(healthy_data_path, file_name)\n",
        "\n",
        "    try:\n",
        "        # Cargar las características del audio utilizando la función cargar_audio\n",
        "        features = cargar_audio(audio_file_path)  # Usar cargar_audio en lugar de load_audio_features\n",
        "        # Añadir las características a la lista\n",
        "        features_list.append(features)\n",
        "        # Añadir la etiqueta \"Sano\" a la lista de etiquetas\n",
        "        labels_list.append(\"Sano\")\n",
        "    except Exception as e:\n",
        "        print(f\"Error cargando {audio_file_path}: {e}\")\n",
        "# Convertir las listas en arrays de numpy para su uso en modelos de ML\n",
        "features_array = np.array(features_list)\n",
        "labels_array = np.array(labels_list)\n",
        "\n",
        "print(f\"Características cargadas: {features_array.shape}\")\n",
        "print(f\"Etiquetas cargadas: {labels_array.shape}\")"
      ]
    },
    {
      "cell_type": "code",
      "execution_count": 16,
      "metadata": {
        "id": "sEURwn2Un9cm"
      },
      "outputs": [],
      "source": [
        "X = features_array\n",
        "y = labels_array"
      ]
    },
    {
      "cell_type": "code",
      "source": [
        "import pandas as pd\n",
        "\n",
        "# Asumiendo que 'y' es una lista o array de tus etiquetas (puede ser numérico o de texto)\n",
        "# Ejemplo: y = ['Dysphonie', 'Laryngitis', 'Paralysis', 'sano', 'Dysphonie', ...]\n",
        "\n",
        "y_series = pd.Series(y)\n",
        "\n",
        "# Contar ocurrencias\n",
        "label_counts = y_series.value_counts()\n",
        "\n",
        "print(\"Conteo de etiquetas por clase:\")\n",
        "print(label_counts)"
      ],
      "metadata": {
        "colab": {
          "base_uri": "https://localhost:8080/"
        },
        "id": "3CvzC0p-IG27",
        "outputId": "ed9d00e9-37ec-4485-9496-ed0509195c51"
      },
      "execution_count": 17,
      "outputs": [
        {
          "output_type": "stream",
          "name": "stdout",
          "text": [
            "Conteo de etiquetas por clase:\n",
            "Sano               634\n",
            "Dysphonie          559\n",
            "Rekurrensparese    209\n",
            "Laryngitis         136\n",
            "dtype: int64\n"
          ]
        }
      ]
    },
    {
      "cell_type": "code",
      "execution_count": 18,
      "metadata": {
        "id": "gie8zVNmokiE",
        "colab": {
          "base_uri": "https://localhost:8080/"
        },
        "outputId": "a5bb1d67-3782-41bf-bb28-28f27fcee9f5"
      },
      "outputs": [
        {
          "output_type": "stream",
          "name": "stderr",
          "text": [
            "/usr/local/lib/python3.10/dist-packages/sklearn/preprocessing/_encoders.py:868: FutureWarning: `sparse` was renamed to `sparse_output` in version 1.2 and will be removed in 1.4. `sparse_output` is ignored unless you leave `sparse` to its default value.\n",
            "  warnings.warn(\n"
          ]
        }
      ],
      "source": [
        "from sklearn.preprocessing import LabelEncoder\n",
        "\n",
        "# Codificar las etiquetas\n",
        "label_encoder = LabelEncoder()\n",
        "y_encoded = label_encoder.fit_transform(y)\n",
        "\n",
        "# Opcional: Convertir las etiquetas numéricas a one-hot encoding\n",
        "from sklearn.preprocessing import OneHotEncoder\n",
        "onehot_encoder = OneHotEncoder(sparse=False)\n",
        "y_onehot = onehot_encoder.fit_transform(y_encoded.reshape(len(y_encoded), 1))\n"
      ]
    },
    {
      "cell_type": "code",
      "source": [
        "import numpy as np\n",
        "\n",
        "# Suponiendo que y_encoded contiene tus etiquetas codificadas\n",
        "unique_classes = np.unique(y_encoded)\n",
        "num_classes = len(unique_classes)\n",
        "print(f\"Número de clases únicas: {num_classes}\")"
      ],
      "metadata": {
        "colab": {
          "base_uri": "https://localhost:8080/"
        },
        "id": "XBjR51HTIp6N",
        "outputId": "29069e88-3c31-4904-ad5e-086e22a9a47a"
      },
      "execution_count": 19,
      "outputs": [
        {
          "output_type": "stream",
          "name": "stdout",
          "text": [
            "Número de clases únicas: 4\n"
          ]
        }
      ]
    },
    {
      "cell_type": "code",
      "execution_count": 20,
      "metadata": {
        "id": "ktnqmr-eZRrT"
      },
      "outputs": [],
      "source": [
        "# Dividir datos en conjuntos de entrenamiento y prueba\n",
        "X_train, X_test, y_train, y_test = train_test_split(X, y, test_size=0.2, random_state=42)"
      ]
    },
    {
      "cell_type": "code",
      "execution_count": 21,
      "metadata": {
        "colab": {
          "base_uri": "https://localhost:8080/"
        },
        "id": "daYLK_A0qr5U",
        "outputId": "6d42e91d-512f-4793-c703-08b68b60d498"
      },
      "outputs": [
        {
          "output_type": "stream",
          "name": "stdout",
          "text": [
            "Número de clases únicas: 4\n"
          ]
        }
      ],
      "source": [
        "\n",
        "# Convertir las etiquetas a una Serie de pandas\n",
        "labels_series = pd.Series(y_encoded)\n",
        "\n",
        "# Contar el número de clases únicas\n",
        "unique_classes = labels_series.unique()\n",
        "num_classes = len(unique_classes)\n",
        "print(f\"Número de clases únicas: {num_classes}\")"
      ]
    },
    {
      "cell_type": "code",
      "execution_count": 22,
      "metadata": {
        "colab": {
          "base_uri": "https://localhost:8080/"
        },
        "id": "7HxGzyhoFp8U",
        "outputId": "00b3534a-ecd4-42ef-d3a4-ce52938ee84c"
      },
      "outputs": [
        {
          "output_type": "stream",
          "name": "stdout",
          "text": [
            "Model: \"model\"\n",
            "_________________________________________________________________\n",
            " Layer (type)                Output Shape              Param #   \n",
            "=================================================================\n",
            " input_1 (InputLayer)        [(None, 70000, 1)]        0         \n",
            "                                                                 \n",
            " sinc_conv1d (SincConv1D)    (None, 4375, 64)          128       \n",
            "                                                                 \n",
            " layer_normalization (Layer  (None, 4375, 64)          128       \n",
            " Normalization)                                                  \n",
            "                                                                 \n",
            " leaky_re_lu (LeakyReLU)     (None, 4375, 64)          0         \n",
            "                                                                 \n",
            " max_pooling1d (MaxPooling1  (None, 2187, 64)          0         \n",
            " D)                                                              \n",
            "                                                                 \n",
            " flatten (Flatten)           (None, 139968)            0         \n",
            "                                                                 \n",
            " dense (Dense)               (None, 256)               35832064  \n",
            "                                                                 \n",
            " batch_normalization (Batch  (None, 256)               1024      \n",
            " Normalization)                                                  \n",
            "                                                                 \n",
            " leaky_re_lu_1 (LeakyReLU)   (None, 256)               0         \n",
            "                                                                 \n",
            " dense_1 (Dense)             (None, 256)               65792     \n",
            "                                                                 \n",
            " batch_normalization_1 (Bat  (None, 256)               1024      \n",
            " chNormalization)                                                \n",
            "                                                                 \n",
            " leaky_re_lu_2 (LeakyReLU)   (None, 256)               0         \n",
            "                                                                 \n",
            " dense_2 (Dense)             (None, 4)                 1028      \n",
            "                                                                 \n",
            "=================================================================\n",
            "Total params: 35901188 (136.95 MB)\n",
            "Trainable params: 35900164 (136.95 MB)\n",
            "Non-trainable params: 1024 (4.00 KB)\n",
            "_________________________________________________________________\n"
          ]
        }
      ],
      "source": [
        "\n",
        "from tensorflow.keras.models import Model\n",
        "from tensorflow.keras.layers import Input, Dense, Flatten, BatchNormalization, LeakyReLU, MaxPooling1D, LayerNormalization\n",
        "\n",
        "# Número de clases, ajusta este valor según tu dataset\n",
        "out_dim = 4  # Asegúrate de que esto coincida con el número real de clases que tienes\n",
        "\n",
        "inputs = Input((70000, 1))\n",
        "x = SincConv1D(N_filt=64, Filt_dim=129, fs=50000, stride=16, padding=\"SAME\")(inputs)\n",
        "x = LayerNormalization()(x)\n",
        "\n",
        "x = LeakyReLU(alpha=0.2)(x)\n",
        "x = MaxPooling1D(pool_size=2)(x)\n",
        "\n",
        "# Aquí puedes añadir más capas a tu modelo según sea necesario\n",
        "\n",
        "x = Flatten()(x)\n",
        "x = Dense(256)(x)\n",
        "x = BatchNormalization(momentum=0.05, epsilon=1e-5)(x)\n",
        "x = LeakyReLU(alpha=0.2)(x)\n",
        "\n",
        "x = Dense(256)(x)\n",
        "x = BatchNormalization(momentum=0.05, epsilon=1e-5)(x)\n",
        "x = LeakyReLU(alpha=0.2)(x)\n",
        "\n",
        "# Capa de salida para clasificación multiclase\n",
        "outputs = Dense(out_dim, activation='softmax')(x)\n",
        "\n",
        "# Definición del modelo\n",
        "model = Model(inputs=inputs, outputs=outputs)\n",
        "\n",
        "model.compile(optimizer='adam',\n",
        "              loss='sparse_categorical_crossentropy',\n",
        "              metrics=['accuracy'])\n",
        "\n",
        "# Resumen del modelo\n",
        "model.summary()\n"
      ]
    },
    {
      "cell_type": "code",
      "execution_count": 23,
      "metadata": {
        "id": "hbwJjZNXBqLc",
        "colab": {
          "base_uri": "https://localhost:8080/"
        },
        "outputId": "37a70ed9-3c47-47f7-ac7d-fb45a62f61bf"
      },
      "outputs": [
        {
          "output_type": "stream",
          "name": "stdout",
          "text": [
            "31/31 [==============================] - 66s 2s/step - loss: 1.4781 - accuracy: 0.4472 - val_loss: 1.1790 - val_accuracy: 0.5528\n",
            "Epoch 2/10\n",
            "31/31 [==============================] - 60s 2s/step - loss: 0.4372 - accuracy: 0.8852 - val_loss: 1.2813 - val_accuracy: 0.5203\n",
            "Epoch 3/10\n",
            "31/31 [==============================] - 58s 2s/step - loss: 0.1231 - accuracy: 0.9848 - val_loss: 1.6461 - val_accuracy: 0.5325\n",
            "Epoch 4/10\n",
            "31/31 [==============================] - 60s 2s/step - loss: 0.0519 - accuracy: 0.9909 - val_loss: 1.6826 - val_accuracy: 0.4715\n",
            "Epoch 5/10\n",
            "31/31 [==============================] - 61s 2s/step - loss: 0.0338 - accuracy: 0.9939 - val_loss: 1.8888 - val_accuracy: 0.4878\n",
            "Epoch 6/10\n",
            "31/31 [==============================] - 60s 2s/step - loss: 0.0284 - accuracy: 0.9959 - val_loss: 1.6691 - val_accuracy: 0.5041\n",
            "Epoch 7/10\n",
            "31/31 [==============================] - 70s 2s/step - loss: 0.0205 - accuracy: 0.9939 - val_loss: 1.8394 - val_accuracy: 0.5081\n",
            "Epoch 8/10\n",
            "31/31 [==============================] - 62s 2s/step - loss: 0.0207 - accuracy: 0.9970 - val_loss: 2.1117 - val_accuracy: 0.5041\n",
            "Epoch 9/10\n",
            "31/31 [==============================] - 61s 2s/step - loss: 0.0174 - accuracy: 0.9959 - val_loss: 2.3076 - val_accuracy: 0.4350\n",
            "Epoch 10/10\n",
            "31/31 [==============================] - 62s 2s/step - loss: 0.0158 - accuracy: 0.9959 - val_loss: 1.9039 - val_accuracy: 0.5163\n"
          ]
        },
        {
          "output_type": "execute_result",
          "data": {
            "text/plain": [
              "<keras.src.callbacks.History at 0x7c42ebcd68f0>"
            ]
          },
          "metadata": {},
          "execution_count": 23
        }
      ],
      "source": [
        "# Suponiendo que y_train contiene etiquetas textuales\n",
        "label_encoder = LabelEncoder()\n",
        "y_train_encoded = label_encoder.fit_transform(y_train)\n",
        "\n",
        "# Ahora y_train_encoded contiene valores numéricos en lugar de cadenas\n",
        "# Continúa con el entrenamiento utilizando y_train_encoded\n",
        "model.fit(X_train, y_train_encoded, epochs=10, batch_size=32, validation_split=0.2, verbose=1)\n"
      ]
    },
    {
      "cell_type": "code",
      "execution_count": 24,
      "metadata": {
        "id": "dv6rGI_LwAg7",
        "colab": {
          "base_uri": "https://localhost:8080/"
        },
        "outputId": "9057918f-4870-4651-f9e3-286a682e0c8c"
      },
      "outputs": [
        {
          "output_type": "execute_result",
          "data": {
            "text/plain": [
              "(308, 70000, 1)"
            ]
          },
          "metadata": {},
          "execution_count": 24
        }
      ],
      "source": [
        "X_test.shape"
      ]
    },
    {
      "cell_type": "code",
      "execution_count": 25,
      "metadata": {
        "id": "xHRho3HYwSa-",
        "colab": {
          "base_uri": "https://localhost:8080/"
        },
        "outputId": "87f350b8-4f30-4301-9a7c-853659ef6eb2"
      },
      "outputs": [
        {
          "output_type": "execute_result",
          "data": {
            "text/plain": [
              "(308,)"
            ]
          },
          "metadata": {},
          "execution_count": 25
        }
      ],
      "source": [
        "y_test.shape"
      ]
    },
    {
      "cell_type": "code",
      "source": [
        "from sklearn.preprocessing import LabelEncoder\n",
        "from tensorflow.keras.utils import to_categorical\n",
        "\n",
        "\n",
        "# Primero, convierte las etiquetas categóricas a numéricas\n",
        "label_encoder = LabelEncoder()\n",
        "y_numerical = label_encoder.fit_transform(y)\n",
        "\n",
        "# Ahora, convierte las etiquetas numéricas a one-hot encoding\n",
        "y_one_hot = to_categorical(y_numerical)\n",
        "\n",
        "# Continúa con la división de los datos o cualquier otro paso siguiente\n",
        "\n"
      ],
      "metadata": {
        "id": "qoQvMx4pkFE_"
      },
      "execution_count": 26,
      "outputs": []
    },
    {
      "cell_type": "code",
      "source": [
        "y_numerical[5]"
      ],
      "metadata": {
        "colab": {
          "base_uri": "https://localhost:8080/"
        },
        "id": "scMk9ihZm6o1",
        "outputId": "99faa425-0819-4c33-8db5-b8c59aeaff3f"
      },
      "execution_count": 27,
      "outputs": [
        {
          "output_type": "execute_result",
          "data": {
            "text/plain": [
              "1"
            ]
          },
          "metadata": {},
          "execution_count": 27
        }
      ]
    },
    {
      "cell_type": "code",
      "source": [
        "y[5]"
      ],
      "metadata": {
        "colab": {
          "base_uri": "https://localhost:8080/",
          "height": 36
        },
        "id": "WbE1y693nHv6",
        "outputId": "3f258b90-cf96-495a-b8a5-8b0bcd4184cb"
      },
      "execution_count": 28,
      "outputs": [
        {
          "output_type": "execute_result",
          "data": {
            "text/plain": [
              "'Laryngitis'"
            ],
            "application/vnd.google.colaboratory.intrinsic+json": {
              "type": "string"
            }
          },
          "metadata": {},
          "execution_count": 28
        }
      ]
    },
    {
      "cell_type": "code",
      "source": [
        "from sklearn.model_selection import train_test_split\n",
        "\n",
        "# Suponiendo que 'X' contiene tus datos de características\n",
        "X_train, X_test, y_train, y_test = train_test_split(X, y_one_hot, test_size=0.3, random_state=42)"
      ],
      "metadata": {
        "id": "oMSLsH4Lk1GF"
      },
      "execution_count": 29,
      "outputs": []
    },
    {
      "cell_type": "code",
      "source": [
        "import numpy as np\n",
        "from sklearn.metrics import confusion_matrix, classification_report\n",
        "\n",
        "# Hacer predicciones\n",
        "predictions = model.predict(X_test)\n",
        "\n",
        "# Convertir predicciones y etiquetas verdaderas de one-hot a formato numérico\n",
        "y_pred = np.argmax(predictions, axis=1)\n",
        "y_test_labels = np.argmax(y_test, axis=1)\n",
        "\n",
        "# Calcular la matriz de confusión y otras métricas\n",
        "cm = confusion_matrix(y_test_labels, y_pred)\n",
        "print(\"Matriz de Confusión:\")\n",
        "print(cm)\n",
        "\n",
        "report = classification_report(y_test_labels, y_pred, target_names=['Dysphonie', 'Laryngitis', 'Rekurrensparese', 'Sano'])\n",
        "print(\"\\nMétricas de Clasificación:\")\n",
        "print(report)\n"
      ],
      "metadata": {
        "colab": {
          "base_uri": "https://localhost:8080/"
        },
        "id": "PfdOyiEnlAFK",
        "outputId": "2e3e99e5-60f8-49dc-8f88-c48de606fba8"
      },
      "execution_count": 30,
      "outputs": [
        {
          "output_type": "stream",
          "name": "stdout",
          "text": [
            "15/15 [==============================] - 8s 475ms/step\n",
            "Matriz de Confusión:\n",
            "[[ 76   5  11  58]\n",
            " [ 16  16   4  10]\n",
            " [ 15   0  33   8]\n",
            " [ 20   1   5 184]]\n",
            "\n",
            "Métricas de Clasificación:\n",
            "                 precision    recall  f1-score   support\n",
            "\n",
            "      Dysphonie       0.60      0.51      0.55       150\n",
            "     Laryngitis       0.73      0.35      0.47        46\n",
            "Rekurrensparese       0.62      0.59      0.61        56\n",
            "           Sano       0.71      0.88      0.78       210\n",
            "\n",
            "       accuracy                           0.67       462\n",
            "      macro avg       0.66      0.58      0.60       462\n",
            "   weighted avg       0.66      0.67      0.65       462\n",
            "\n"
          ]
        }
      ]
    }
  ],
  "metadata": {
    "accelerator": "GPU",
    "colab": {
      "gpuType": "T4",
      "provenance": []
    },
    "kernelspec": {
      "display_name": "Python 3",
      "name": "python3"
    },
    "language_info": {
      "name": "python"
    }
  },
  "nbformat": 4,
  "nbformat_minor": 0
}