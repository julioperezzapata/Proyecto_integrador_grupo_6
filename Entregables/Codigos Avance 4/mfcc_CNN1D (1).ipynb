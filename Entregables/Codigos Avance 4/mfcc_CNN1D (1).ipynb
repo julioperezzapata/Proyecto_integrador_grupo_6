{
  "cells": [
    {
      "cell_type": "code",
      "execution_count": 21,
      "metadata": {
        "colab": {
          "base_uri": "https://localhost:8080/"
        },
        "id": "inkfTSeMQetR",
        "outputId": "26e2d03f-4108-4451-f7fb-bff1223dbc03"
      },
      "outputs": [
        {
          "output_type": "stream",
          "name": "stdout",
          "text": [
            "Drive already mounted at /content/drive; to attempt to forcibly remount, call drive.mount(\"/content/drive\", force_remount=True).\n"
          ]
        }
      ],
      "source": [
        "from google.colab import drive\n",
        "drive.mount('/content/drive')"
      ]
    },
    {
      "cell_type": "code",
      "execution_count": 22,
      "metadata": {
        "id": "nlcuvGzFi1FZ"
      },
      "outputs": [],
      "source": [
        "import os\n",
        "import librosa\n",
        "import numpy as np\n",
        "from sklearn.model_selection import train_test_split\n",
        "from sklearn.ensemble import RandomForestClassifier\n",
        "from sklearn.metrics import accuracy_score\n",
        "from sklearn.preprocessing import LabelEncoder\n",
        "import joblib\n",
        "from tqdm import tqdm\n",
        "import pandas as pd\n",
        "import librosa.display\n",
        "import matplotlib.pyplot as plt\n",
        "from pathlib import Path\n",
        "import soundfile as sf  # Para guardar en formato WAV\n",
        "from sklearn.metrics import recall_score, f1_score\n"
      ]
    },
    {
      "cell_type": "code",
      "execution_count": 23,
      "metadata": {
        "id": "OjXKPvVXi111"
      },
      "outputs": [],
      "source": [
        "def extraer_caracteristicas_1(ruta_completa,clase):\n",
        "    y, sr = librosa.load(ruta_completa)\n",
        "\n",
        "    # Extracción de características\n",
        "    mean = np.mean(y)\n",
        "    std = np.std(y)\n",
        "\n",
        "\n",
        "    #Calcular los Mel-Frequency Cepstral Coefficients (MFCC)\n",
        "    mfccs = librosa.feature.mfcc(y=y, sr=sr, n_mfcc=13)\n",
        "    #Obtener el promedio de los coeficientes MFCC\n",
        "    mean_mfccs = np.mean(mfccs, axis=1)\n",
        "     #primera y segunda derivada\n",
        "    #delta_mfcc = librosa.feature.delta(mfccs)\n",
        "    #delta_mfcc_2 = librosa.feature.delta(mfccs, order=2)\n",
        "     #Características en el dominio de la frecuencia\n",
        "    spectral_centroid = np.mean(librosa.feature.spectral_centroid(y=y, sr=sr)[0])\n",
        "    spectral_bandwidth = np.mean(librosa.feature.spectral_bandwidth(y=y, sr=sr)[0])\n",
        "    spectral_rolloff = np.mean(librosa.feature.spectral_rolloff(y=y, sr=sr)[0])\n",
        "\n",
        "    #Características de energía\n",
        "    zero_crossing_rate = np.mean(librosa.feature.zero_crossing_rate(y=y)[0])\n",
        "\n",
        "    clase=clase\n",
        "\n",
        "\n",
        "\n",
        "    # Crear una fila con todos los datos\n",
        "    caracteristicas = [\n",
        "\n",
        "        *mean_mfccs,#Desempaqueta\n",
        "        spectral_centroid,\n",
        "        spectral_bandwidth,\n",
        "        spectral_rolloff,\n",
        "        zero_crossing_rate,\n",
        "\n",
        "\n",
        "\n",
        "        clase\n",
        "    ]\n",
        "    return caracteristicas\n"
      ]
    },
    {
      "cell_type": "code",
      "execution_count": 24,
      "metadata": {
        "id": "CHzw775hCiSK"
      },
      "outputs": [],
      "source": [
        "data = []"
      ]
    },
    {
      "cell_type": "code",
      "execution_count": 25,
      "metadata": {
        "colab": {
          "base_uri": "https://localhost:8080/"
        },
        "id": "eYSxrGh1i15p",
        "outputId": "5d15ae6a-32ec-41c7-f18d-61d115ff7baf"
      },
      "outputs": [
        {
          "output_type": "stream",
          "name": "stderr",
          "text": [
            "100%|██████████| 1724/1724 [01:46<00:00, 16.22it/s]\n"
          ]
        }
      ],
      "source": [
        "# Lista para almacenar las filas del dataset hombre y mujeres enfermos\n",
        "#data = []\n",
        "directorio_audio=\"/content/drive/MyDrive/PROYECTO_FINAL/Frases_enfermos_HM_duplicado/export\"\n",
        "clase=\"sick\"\n",
        "# Cargar el archivo CSV con los nombres de los archivos y las clases\n",
        "#metadata = pd.read_csv(ruta_metadata)\n",
        "\n",
        "# Iterar sobre los archivos de audio en el directorio\n",
        "for archivo_audio in tqdm(os.listdir(directorio_audio)):\n",
        "        if archivo_audio.endswith('.wav'):  # Asegurarse de que estás trabajando con archivos de audio\n",
        "            ruta_completa = os.path.join(directorio_audio, archivo_audio)\n",
        "            # Extraer características 1\n",
        "            fila = extraer_caracteristicas_1(ruta_completa,clase)\n",
        "\n",
        "            # Agregar la fila a la lista de datos\n",
        "            data.append(fila)\n",
        "\n",
        "       # nombres_columnas = [\n",
        "       # 'Ruta',\n",
        "       # 'Media señal',\n",
        "       # 'Desviación estándar de la señal',\n",
        "       # 'MFCC_1', 'MFCC_2', 'MFCC_3', 'MFCC_4', 'MFCC_5', 'MFCC_6', 'MFCC_7', 'MFCC_8', 'MFCC_9', 'MFCC_10', 'MFCC_11', 'MFCC_12', 'MFCC_13',\n",
        "       # 'Amplitud máxima',\n",
        "       # 'Amplitud mínima',\n",
        "       # 'Promedio del centroides espectrales',\n",
        "       # 'Promedio del ancho de banda espectral',\n",
        "       # 'Promedio del rolloff espectral',\n",
        "       # 'Promedio de la tasa de cruce por cero',\n",
        "       # 'RMS (Root Mean Square)',\n",
        "       # 'Clase'\n",
        "   ## ]\n",
        "\n",
        "#df = pd.DataFrame(data, columns=nombres_columnas)\n",
        "\n",
        "    # Guardar el DataFrame como un archivo CSV\n",
        "#df.to_csv('dataset_test_1.csv', index=False)\n"
      ]
    },
    {
      "cell_type": "code",
      "execution_count": 26,
      "metadata": {
        "colab": {
          "base_uri": "https://localhost:8080/"
        },
        "id": "-z3xshs9Fbiy",
        "outputId": "f9f41d71-3d6c-4cf5-99b9-bf3141eec8a4"
      },
      "outputs": [
        {
          "output_type": "stream",
          "name": "stderr",
          "text": [
            "100%|██████████| 1656/1656 [01:26<00:00, 19.17it/s]\n"
          ]
        }
      ],
      "source": [
        "# Lista para almacenar las filas del dataset hombre y mujeres sanas\n",
        "#data = []\n",
        "directorio_audio=\"/content/drive/MyDrive/PROYECTO_FINAL/frases sanos + whitenoise sanos\"\n",
        "clase=\"sano\"\n",
        "# Cargar el archivo CSV con los nombres de los archivos y las clases\n",
        "#metadata = pd.read_csv(ruta_metadata)\n",
        "\n",
        "# Iterar sobre los archivos de audio en el directorio\n",
        "for archivo_audio in tqdm(os.listdir(directorio_audio)):\n",
        "        if archivo_audio.endswith('.wav'):  # Asegurarse de que estás trabajando con archivos de audio\n",
        "            ruta_completa = os.path.join(directorio_audio, archivo_audio)\n",
        "            # Extraer características 1\n",
        "            fila = extraer_caracteristicas_1(ruta_completa,clase)\n",
        "\n",
        "            # Agregar la fila a la lista de datos\n",
        "            data.append(fila)"
      ]
    },
    {
      "cell_type": "code",
      "execution_count": 27,
      "metadata": {
        "id": "bH86JjNuF6oT"
      },
      "outputs": [],
      "source": [
        "nombres_columnas = [\n",
        "        'Ruta',\n",
        "        'Media señal',\n",
        "        'Dstandar',#Desviación estándar de la señal\n",
        "        'MFCC_1', 'MFCC_2', 'MFCC_3', 'MFCC_4', 'MFCC_5', 'MFCC_6', 'MFCC_7', 'MFCC_8', 'MFCC_9', 'MFCC_10', 'MFCC_11', 'MFCC_12', 'MFCC_13',\n",
        "        'Amáxima',#Amplitud maxima\n",
        "        'Amín',#Amplitud mínima\n",
        "        'AvgCS', # Promedio del centroides espectrales\n",
        "        'AvgBws',#Promedio del ancho de banda espectral\n",
        "        'Avgrolloff',#Promedio del rolloff espectral\n",
        "        'AvgCrossZ',#Promedio de la tasa de cruce por cero\n",
        "        'RMS ',#RMS (Root Mean Square)\n",
        "        'Clase'\n",
        "    ]\n",
        "\n",
        "df = pd.DataFrame(data)\n",
        "\n",
        "    # Guardar el DataFrame como un archivo CSV\n",
        "#df.to_csv('dataset_test_1.csv', index=False)\n"
      ]
    },
    {
      "cell_type": "code",
      "execution_count": 28,
      "metadata": {
        "colab": {
          "base_uri": "https://localhost:8080/"
        },
        "id": "ehKmHr1MzI4e",
        "outputId": "d5c87cd8-8f64-482e-be5a-9e1fa7f3ee81"
      },
      "outputs": [
        {
          "output_type": "stream",
          "name": "stdout",
          "text": [
            "              0           1          2          3          4          5   \\\n",
            "0    -265.925293  100.256241  19.701265  36.082523   5.650431  -5.365362   \n",
            "1    -282.439087  109.824287  17.232365  32.695984   6.277915 -19.289959   \n",
            "2    -256.304932  108.921295  36.863407  21.057262  -1.506584  -3.437346   \n",
            "3    -254.603073  117.361710  40.523499  32.599110   3.194947 -11.256540   \n",
            "4    -261.194397   68.744141  30.958025  24.921591  15.521741 -16.009760   \n",
            "...          ...         ...        ...        ...        ...        ...   \n",
            "3375 -284.316193   79.033096  24.230682  33.330681  16.543144  -0.144021   \n",
            "3376 -206.528320  106.611496  21.443638  40.453037   8.335456  -8.586728   \n",
            "3377 -265.965698   93.998299  30.081154  32.448971  12.935879   1.060116   \n",
            "3378 -284.963531   88.529770  24.216827  30.196507  10.512567  -2.964409   \n",
            "3379 -297.610260  110.968552  37.173805  42.027958  11.998269  -0.544153   \n",
            "\n",
            "            6          7          8          9          10        11  \\\n",
            "0    -5.256649   6.320249  -9.473772  -6.112221 -10.396615 -5.523695   \n",
            "1    -2.748127  12.634590 -10.834789  -4.469413 -11.109818 -8.159726   \n",
            "2    -9.111598  13.942236 -10.183211 -13.185463  -1.017892 -8.848647   \n",
            "3    -1.101781  13.533818 -11.583567  -4.370946  -7.108092 -6.560876   \n",
            "4     4.606743  10.646488 -12.194104   7.014197 -11.330198 -6.908761   \n",
            "...        ...        ...        ...        ...        ...       ...   \n",
            "3375 -5.508734   4.956317  -3.327663  -6.345819  -6.457837 -3.061616   \n",
            "3376 -4.647949   1.058527  -0.453416  -4.175980 -14.591903  2.818126   \n",
            "3377  4.988340   8.228955  -4.933805  -4.282451  -8.608048 -1.038174   \n",
            "3378 -3.335695   4.873586  -5.384920  -3.225535  -3.934297  2.513289   \n",
            "3379  6.768102   1.077152  -8.664409  -3.893922 -14.924280 -0.218350   \n",
            "\n",
            "            12           13           14           15        16    17  \n",
            "0    -4.189692  1839.886716  2019.214005  3410.224915  0.081203  sick  \n",
            "1    -4.587823  1917.377446  2028.442604  3469.310347  0.082555  sick  \n",
            "2    -8.322216  1584.480436  2042.609585  2950.490082  0.061379  sick  \n",
            "3    -3.964418  1894.241152  2125.284813  3354.814849  0.079893  sick  \n",
            "4    -6.529428  2968.249737  3035.371377  6665.390839  0.119643  sick  \n",
            "...        ...          ...          ...          ...       ...   ...  \n",
            "3375 -5.492146  2170.649773  2648.077844  4823.001016  0.063312  sano  \n",
            "3376 -6.567142  1836.547840  2249.662272  3753.139426  0.074492  sano  \n",
            "3377 -9.955409  2057.105581  2492.249853  4262.447481  0.070676  sano  \n",
            "3378 -9.340541  2157.395432  2406.276033  4273.273058  0.087996  sano  \n",
            "3379 -8.919242  1516.467881  2233.304530  3182.338257  0.043042  sano  \n",
            "\n",
            "[3380 rows x 18 columns]\n"
          ]
        }
      ],
      "source": [
        "print(df)"
      ]
    },
    {
      "cell_type": "code",
      "execution_count": 28,
      "metadata": {
        "id": "EO8nXI_CKU33"
      },
      "outputs": [],
      "source": []
    },
    {
      "cell_type": "code",
      "execution_count": 29,
      "metadata": {
        "id": "zQEAbYPB0TJ3"
      },
      "outputs": [],
      "source": [
        "#directorio_audio=\"/content/drive/MyDrive/PROYECTO_FINAL/PATH/Hombre_frases_path\"\n",
        "###clase=\"sick\"\n",
        "#recorrer_archivos_audio(directorio_audio,clase)\n"
      ]
    },
    {
      "cell_type": "code",
      "execution_count": 30,
      "metadata": {
        "id": "Uf5IYarHJVXj"
      },
      "outputs": [],
      "source": [
        "#print(df.describe())"
      ]
    },
    {
      "cell_type": "code",
      "execution_count": 31,
      "metadata": {
        "id": "RWr43hle5ZbE"
      },
      "outputs": [],
      "source": [
        "df[17] = df[17].map({'sick': 1, 'sano': 0})"
      ]
    },
    {
      "cell_type": "code",
      "source": [
        "\n",
        "import pandas as pd\n",
        "from sklearn.decomposition import PCA\n",
        "from sklearn.preprocessing import StandardScaler\n",
        "\n",
        "\n",
        "\n",
        "# Estandarizar el DataFrame (opcional pero recomendado antes de PCA)\n",
        "scaler = StandardScaler()\n",
        "df_estandarizado = scaler.fit_transform(df)\n",
        "\n",
        "#Instanciar PCA y especificar el número de componentes deseados\n",
        "n_componentes = 2  # Número de componentes principales\n",
        "pca = PCA(n_components=n_componentes)\n",
        "\n",
        "# Aplicar PCA al DataFrame estandarizado\n",
        "df_pca = pd.DataFrame(pca.fit_transform(df_estandarizado), columns=[f'PC{i}' for i in range(1, n_componentes + 1)])\n",
        "\n",
        "#Mostrar el DataFrame después de PCA\n",
        "print(\"DataFrame Original:\")\n",
        "print(df)\n",
        "#print(\"\\nDataFrame después de PCA:\")\n",
        "print(df_pca)\n",
        "#print(df_estandarizado)"
      ],
      "metadata": {
        "colab": {
          "base_uri": "https://localhost:8080/"
        },
        "id": "dFlzCMa5PcE_",
        "outputId": "f3f463f6-02d3-4240-a421-f00cde5f9526"
      },
      "execution_count": 32,
      "outputs": [
        {
          "output_type": "stream",
          "name": "stdout",
          "text": [
            "DataFrame Original:\n",
            "              0           1          2          3          4          5   \\\n",
            "0    -265.925293  100.256241  19.701265  36.082523   5.650431  -5.365362   \n",
            "1    -282.439087  109.824287  17.232365  32.695984   6.277915 -19.289959   \n",
            "2    -256.304932  108.921295  36.863407  21.057262  -1.506584  -3.437346   \n",
            "3    -254.603073  117.361710  40.523499  32.599110   3.194947 -11.256540   \n",
            "4    -261.194397   68.744141  30.958025  24.921591  15.521741 -16.009760   \n",
            "...          ...         ...        ...        ...        ...        ...   \n",
            "3375 -284.316193   79.033096  24.230682  33.330681  16.543144  -0.144021   \n",
            "3376 -206.528320  106.611496  21.443638  40.453037   8.335456  -8.586728   \n",
            "3377 -265.965698   93.998299  30.081154  32.448971  12.935879   1.060116   \n",
            "3378 -284.963531   88.529770  24.216827  30.196507  10.512567  -2.964409   \n",
            "3379 -297.610260  110.968552  37.173805  42.027958  11.998269  -0.544153   \n",
            "\n",
            "            6          7          8          9          10        11  \\\n",
            "0    -5.256649   6.320249  -9.473772  -6.112221 -10.396615 -5.523695   \n",
            "1    -2.748127  12.634590 -10.834789  -4.469413 -11.109818 -8.159726   \n",
            "2    -9.111598  13.942236 -10.183211 -13.185463  -1.017892 -8.848647   \n",
            "3    -1.101781  13.533818 -11.583567  -4.370946  -7.108092 -6.560876   \n",
            "4     4.606743  10.646488 -12.194104   7.014197 -11.330198 -6.908761   \n",
            "...        ...        ...        ...        ...        ...       ...   \n",
            "3375 -5.508734   4.956317  -3.327663  -6.345819  -6.457837 -3.061616   \n",
            "3376 -4.647949   1.058527  -0.453416  -4.175980 -14.591903  2.818126   \n",
            "3377  4.988340   8.228955  -4.933805  -4.282451  -8.608048 -1.038174   \n",
            "3378 -3.335695   4.873586  -5.384920  -3.225535  -3.934297  2.513289   \n",
            "3379  6.768102   1.077152  -8.664409  -3.893922 -14.924280 -0.218350   \n",
            "\n",
            "            12           13           14           15        16  17  \n",
            "0    -4.189692  1839.886716  2019.214005  3410.224915  0.081203   1  \n",
            "1    -4.587823  1917.377446  2028.442604  3469.310347  0.082555   1  \n",
            "2    -8.322216  1584.480436  2042.609585  2950.490082  0.061379   1  \n",
            "3    -3.964418  1894.241152  2125.284813  3354.814849  0.079893   1  \n",
            "4    -6.529428  2968.249737  3035.371377  6665.390839  0.119643   1  \n",
            "...        ...          ...          ...          ...       ...  ..  \n",
            "3375 -5.492146  2170.649773  2648.077844  4823.001016  0.063312   0  \n",
            "3376 -6.567142  1836.547840  2249.662272  3753.139426  0.074492   0  \n",
            "3377 -9.955409  2057.105581  2492.249853  4262.447481  0.070676   0  \n",
            "3378 -9.340541  2157.395432  2406.276033  4273.273058  0.087996   0  \n",
            "3379 -8.919242  1516.467881  2233.304530  3182.338257  0.043042   0  \n",
            "\n",
            "[3380 rows x 18 columns]\n",
            "           PC1       PC2\n",
            "0    -1.181229 -0.765669\n",
            "1    -1.327885 -1.483209\n",
            "2    -1.041104 -1.272103\n",
            "3    -1.042316 -0.251932\n",
            "4     3.462807  0.505455\n",
            "...        ...       ...\n",
            "3375  0.250696  0.634107\n",
            "3376 -1.128105 -0.241764\n",
            "3377 -0.286160  0.628616\n",
            "3378  0.111392  0.072278\n",
            "3379 -2.568255 -0.038907\n",
            "\n",
            "[3380 rows x 2 columns]\n"
          ]
        }
      ]
    },
    {
      "cell_type": "code",
      "source": [
        "import pandas as pd\n",
        "from sklearn.preprocessing import MinMaxScaler\n",
        "\n",
        "# Instanciar el MinMaxScaler\n",
        "scaler = MinMaxScaler()\n",
        "\n",
        "# Ajustar y transformar el DataFrame\n",
        "df_normalizado = pd.DataFrame(scaler.fit_transform(df), columns=df.columns)\n",
        "\n",
        "# Mostrar el DataFrame normalizado\n",
        "\n",
        "print(\"\\nDataFrame Normalizado:\")\n",
        "print(df_normalizado)"
      ],
      "metadata": {
        "colab": {
          "base_uri": "https://localhost:8080/"
        },
        "id": "gR9rgOLPE__B",
        "outputId": "2f60b381-e132-4249-c7a1-dd2f61c486df"
      },
      "execution_count": 33,
      "outputs": [
        {
          "output_type": "stream",
          "name": "stdout",
          "text": [
            "\n",
            "DataFrame Normalizado:\n",
            "            0         1         2         3         4         5         6   \\\n",
            "0     0.624873  0.526329  0.447838  0.622752  0.385414  0.455559  0.456758   \n",
            "1     0.579063  0.598038  0.413062  0.562488  0.394287  0.198875  0.510111   \n",
            "2     0.651560  0.591270  0.689575  0.355375  0.284202  0.491099  0.374767   \n",
            "3     0.656281  0.654529  0.741129  0.560764  0.350689  0.346962  0.545127   \n",
            "4     0.637996  0.290156  0.606395  0.424142  0.525009  0.259342  0.666541   \n",
            "...        ...       ...       ...       ...       ...       ...       ...   \n",
            "3375  0.573855  0.367268  0.511637  0.573782  0.539454  0.551808  0.451396   \n",
            "3376  0.789643  0.573959  0.472380  0.700525  0.423384  0.396176  0.469704   \n",
            "3377  0.624761  0.479428  0.594044  0.558092  0.488441  0.574005  0.674658   \n",
            "3378  0.572060  0.438443  0.511442  0.518009  0.454172  0.499817  0.497614   \n",
            "3379  0.536977  0.606614  0.693947  0.728551  0.475182  0.544432  0.712511   \n",
            "\n",
            "            7         8         9         10        11        12        13  \\\n",
            "0     0.554837  0.359847  0.444995  0.440237  0.426141  0.635851  0.333253   \n",
            "1     0.687949  0.328525  0.490665  0.419553  0.342438  0.622504  0.355284   \n",
            "2     0.715516  0.343520  0.248359  0.712235  0.320562  0.497306  0.260638   \n",
            "3     0.706906  0.311293  0.493403  0.535609  0.393207  0.643404  0.348706   \n",
            "4     0.646038  0.297243  0.809909  0.413162  0.382160  0.557410  0.654059   \n",
            "...        ...       ...       ...       ...       ...       ...       ...   \n",
            "3375  0.526084  0.501289  0.438501  0.554468  0.504320  0.592186  0.427293   \n",
            "3376  0.443914  0.567435  0.498823  0.318567  0.691021  0.556146  0.332304   \n",
            "3377  0.595074  0.464326  0.495863  0.492108  0.568571  0.442552  0.395011   \n",
            "3378  0.524340  0.453945  0.525245  0.627654  0.681341  0.463166  0.423524   \n",
            "3379  0.444307  0.378473  0.506664  0.308928  0.594603  0.477291  0.241301   \n",
            "\n",
            "            14        15        16   17  \n",
            "0     0.322799  0.315098  0.231589  1.0  \n",
            "1     0.327601  0.323828  0.235645  1.0  \n",
            "2     0.334974  0.247173  0.172113  1.0  \n",
            "3     0.378000  0.306911  0.227660  1.0  \n",
            "4     0.851625  0.796041  0.346921  1.0  \n",
            "...        ...       ...       ...  ...  \n",
            "3375  0.650070  0.523832  0.177910  0.0  \n",
            "3376  0.442728  0.365763  0.211456  0.0  \n",
            "3377  0.568975  0.441012  0.200005  0.0  \n",
            "3378  0.524233  0.442611  0.251969  0.0  \n",
            "3379  0.434215  0.281428  0.117095  0.0  \n",
            "\n",
            "[3380 rows x 18 columns]\n"
          ]
        }
      ]
    },
    {
      "cell_type": "code",
      "source": [],
      "metadata": {
        "id": "S68nOBGxFALN"
      },
      "execution_count": 33,
      "outputs": []
    },
    {
      "cell_type": "code",
      "execution_count": 34,
      "metadata": {
        "id": "rFaSp8mCqYL2"
      },
      "outputs": [],
      "source": [
        "#Balancear datos\n"
      ]
    },
    {
      "cell_type": "code",
      "execution_count": 35,
      "metadata": {
        "colab": {
          "base_uri": "https://localhost:8080/"
        },
        "id": "5t1dcHni53sM",
        "outputId": "dd4146ef-9b2a-4a05-9ebd-2fe594b6669f"
      },
      "outputs": [
        {
          "output_type": "stream",
          "name": "stderr",
          "text": [
            "<ipython-input-35-69ced6404877>:1: FutureWarning: In a future version of pandas all arguments of DataFrame.drop except for the argument 'labels' will be keyword-only.\n",
            "  X = np.array(df_normalizado.drop([17],1))\n"
          ]
        }
      ],
      "source": [
        "\n",
        "\n",
        "X = np.array(df_normalizado.drop([17],1))\n",
        "y = np.array(df_normalizado[17])\n"
      ]
    },
    {
      "cell_type": "code",
      "execution_count": 36,
      "metadata": {
        "colab": {
          "base_uri": "https://localhost:8080/"
        },
        "id": "a2aeTcLaHkwh",
        "outputId": "29681cc6-18ef-41c2-d2cd-204241d70d64"
      },
      "outputs": [
        {
          "output_type": "stream",
          "name": "stdout",
          "text": [
            "Distribución de clases:\n",
            "1    1724\n",
            "0    1656\n",
            "Name: 17, dtype: int64\n"
          ]
        }
      ],
      "source": [
        "# Verificar desequilibrio en las clases\n",
        "desequilibrio_clases = df[17].value_counts()\n",
        "print(\"Distribución de clases:\")\n",
        "print(desequilibrio_clases)\n",
        "# 1= enfermo\n",
        "# 2= sano"
      ]
    },
    {
      "cell_type": "code",
      "source": [
        "from tensorflow.keras.models import Sequential\n",
        "from tensorflow.keras.layers import Conv1D, MaxPooling1D, Flatten, Dense\n",
        "from sklearn.model_selection import train_test_split\n",
        "\n",
        "# Dividir los datos en conjuntos de entrenamiento, validación y prueba\n",
        "X_train, X_temp, y_train, y_temp = train_test_split(X, y, test_size=0.2, random_state=42)\n",
        "X_val, X_test, y_val, y_test = train_test_split(X_temp, y_temp, test_size=0.5, random_state=42)\n",
        "\n",
        "# Definir la forma del tensor de entrada\n",
        "input_shape = (X_train.shape[1], 1)  # (número de características, número de canales)\n",
        "\n",
        "# Reshape de X para que tenga la forma adecuada para la entrada de la CNN\n",
        "X_train = X_train.reshape(X_train.shape[0], X_train.shape[1], 1)\n",
        "X_val = X_val.reshape(X_val.shape[0], X_val.shape[1], 1)\n",
        "X_test = X_test.reshape(X_test.shape[0], X_test.shape[1], 1)\n",
        "\n",
        "# Definir el modelo de CNN\n",
        "model = Sequential([\n",
        "    Conv1D(32, kernel_size=3, activation='relu', input_shape=input_shape),\n",
        "    MaxPooling1D(pool_size=2),\n",
        "    Conv1D(64, kernel_size=3, activation='relu'),\n",
        "    MaxPooling1D(pool_size=2),\n",
        "    Flatten(),\n",
        "    Dense(128, activation='relu'),\n",
        "    Dense(1, activation='sigmoid')  # Capa de salida binaria\n",
        "])\n",
        "\n",
        "# Compilar el modelo\n",
        "model.compile(optimizer='adam', loss='binary_crossentropy', metrics=['accuracy'])\n",
        "\n",
        "# Entrenar el modelo\n",
        "history = model.fit(X_train, y_train, epochs=10, batch_size=32, validation_data=(X_val, y_val))\n",
        "\n",
        "# Evaluar el modelo en el conjunto de prueba\n",
        "loss, accuracy = model.evaluate(X_test, y_test)\n",
        "# Calcular recall y F1-score\n",
        "# Predecir las probabilidades de pertenencia a la clase positiva\n",
        "y_pred_prob = model.predict(X_test)\n",
        "# Convertir las probabilidades en clases usando un umbral de decisión (0.5 en este caso)\n",
        "y_pred = (y_pred_prob > 0.5).astype(int)\n",
        "\n",
        "\n",
        "\n",
        "recall = recall_score(y_test, y_pred)\n",
        "f1 = f1_score(y_test, y_pred)\n",
        "\n",
        "print(f'Pérdida en el conjunto de prueba: {loss}')\n",
        "print(f'Precisión en el conjunto de prueba: {accuracy}')\n",
        "print(\"recall_score :\",recall)\n",
        "print(\"f1_score :\",f1)"
      ],
      "metadata": {
        "id": "kE5KW8IISrNQ",
        "colab": {
          "base_uri": "https://localhost:8080/"
        },
        "outputId": "cc887fd5-7a90-4ef4-ed43-f6e0da5be8ed"
      },
      "execution_count": 38,
      "outputs": [
        {
          "output_type": "stream",
          "name": "stdout",
          "text": [
            "Epoch 1/10\n",
            "85/85 [==============================] - 2s 9ms/step - loss: 0.6908 - accuracy: 0.5370 - val_loss: 0.6800 - val_accuracy: 0.6391\n",
            "Epoch 2/10\n",
            "85/85 [==============================] - 1s 6ms/step - loss: 0.6736 - accuracy: 0.5754 - val_loss: 0.6412 - val_accuracy: 0.6509\n",
            "Epoch 3/10\n",
            "85/85 [==============================] - 0s 4ms/step - loss: 0.6404 - accuracy: 0.6487 - val_loss: 0.6145 - val_accuracy: 0.6657\n",
            "Epoch 4/10\n",
            "85/85 [==============================] - 0s 3ms/step - loss: 0.6239 - accuracy: 0.6572 - val_loss: 0.6075 - val_accuracy: 0.6627\n",
            "Epoch 5/10\n",
            "85/85 [==============================] - 0s 3ms/step - loss: 0.6225 - accuracy: 0.6520 - val_loss: 0.6030 - val_accuracy: 0.6716\n",
            "Epoch 6/10\n",
            "85/85 [==============================] - 0s 3ms/step - loss: 0.6082 - accuracy: 0.6727 - val_loss: 0.5928 - val_accuracy: 0.6923\n",
            "Epoch 7/10\n",
            "85/85 [==============================] - 0s 3ms/step - loss: 0.6082 - accuracy: 0.6709 - val_loss: 0.6213 - val_accuracy: 0.6183\n",
            "Epoch 8/10\n",
            "85/85 [==============================] - 0s 3ms/step - loss: 0.6009 - accuracy: 0.6768 - val_loss: 0.5912 - val_accuracy: 0.6923\n",
            "Epoch 9/10\n",
            "85/85 [==============================] - 0s 3ms/step - loss: 0.5989 - accuracy: 0.6768 - val_loss: 0.5884 - val_accuracy: 0.6982\n",
            "Epoch 10/10\n",
            "85/85 [==============================] - 0s 3ms/step - loss: 0.5920 - accuracy: 0.6827 - val_loss: 0.5925 - val_accuracy: 0.6775\n",
            "11/11 [==============================] - 0s 2ms/step - loss: 0.6145 - accuracy: 0.6450\n",
            "11/11 [==============================] - 0s 2ms/step\n",
            "Pérdida en el conjunto de prueba: 0.6144959330558777\n",
            "Precisión en el conjunto de prueba: 0.6449704170227051\n",
            "recall_score : 0.6256410256410256\n",
            "f1_score : 0.6703296703296703\n"
          ]
        }
      ]
    },
    {
      "cell_type": "markdown",
      "metadata": {
        "id": "_sibIlT_Afs2"
      },
      "source": []
    },
    {
      "cell_type": "code",
      "source": [],
      "metadata": {
        "id": "z6KsS9F9Fl-C"
      },
      "execution_count": null,
      "outputs": []
    }
  ],
  "metadata": {
    "colab": {
      "provenance": []
    },
    "kernelspec": {
      "display_name": "Python 3",
      "name": "python3"
    },
    "language_info": {
      "name": "python"
    }
  },
  "nbformat": 4,
  "nbformat_minor": 0
}